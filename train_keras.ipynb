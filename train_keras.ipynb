{
 "cells": [
  {
   "cell_type": "code",
   "execution_count": 1,
   "metadata": {},
   "outputs": [
    {
     "name": "stdout",
     "output_type": "stream",
     "text": [
      "WARNING:tensorflow:From c:\\Users\\Moon-Touched\\AppData\\Local\\Programs\\Python\\Python311\\Lib\\site-packages\\keras\\src\\losses.py:2976: The name tf.losses.sparse_softmax_cross_entropy is deprecated. Please use tf.compat.v1.losses.sparse_softmax_cross_entropy instead.\n",
      "\n"
     ]
    }
   ],
   "source": [
    "import cv2\n",
    "import os\n",
    "import numpy as np\n",
    "import tensorflow as tf\n",
    "import matplotlib.pyplot as plt"
   ]
  },
  {
   "cell_type": "code",
   "execution_count": 3,
   "metadata": {},
   "outputs": [],
   "source": [
    "x_train = []\n",
    "image_files = [os.path.join(\"\", f) for f in os.listdir(\"./train sample/\")]\n",
    "for filename in image_files:\n",
    "    image = cv2.imread(\"./train sample/\" + filename)\n",
    "    gray_image = cv2.cvtColor(image, cv2.COLOR_BGR2GRAY)\n",
    "    _, binary_image = cv2.threshold(gray_image, 127, 255, cv2.THRESH_BINARY)\n",
    "    binary_image=binary_image/255\n",
    "    x_train.append(binary_image)\n",
    "x_train = np.array(x_train)\n",
    "\n",
    "y_train = []\n",
    "for filename in image_files:\n",
    "    y_train.append(int(filename[0]))\n",
    "y_train=np.array(y_train)\n",
    "\n",
    "\n",
    "x_test = []\n",
    "image_files = [os.path.join(\"\", f) for f in os.listdir(\"./test sample/\")]\n",
    "for filename in image_files:\n",
    "    image = cv2.imread(\"./test sample/\" + filename)\n",
    "    gray_image = cv2.cvtColor(image, cv2.COLOR_BGR2GRAY)\n",
    "    _, binary_image = cv2.threshold(gray_image, 127, 255, cv2.THRESH_BINARY)\n",
    "    binary_image = binary_image / 255\n",
    "    x_test.append(binary_image)\n",
    "x_test = tf.Variable(np.array(x_test, dtype=np.float32))\n",
    "\n",
    "# 测试标签\n",
    "y_test = []\n",
    "for filename in image_files:\n",
    "    y_test.append(int(filename[0]))\n",
    "y_test = tf.Variable(np.array(y_test, dtype=np.float32))"
   ]
  },
  {
   "cell_type": "code",
   "execution_count": 4,
   "metadata": {},
   "outputs": [
    {
     "name": "stdout",
     "output_type": "stream",
     "text": [
      "WARNING:tensorflow:From c:\\Users\\Moon-Touched\\AppData\\Local\\Programs\\Python\\Python311\\Lib\\site-packages\\keras\\src\\backend.py:873: The name tf.get_default_graph is deprecated. Please use tf.compat.v1.get_default_graph instead.\n",
      "\n"
     ]
    }
   ],
   "source": [
    "model = tf.keras.models.Sequential([tf.keras.layers.Flatten(input_shape=(30, 20)), \n",
    "                                    tf.keras.layers.Dense(128, activation=\"sigmoid\"), \n",
    "                                    tf.keras.layers.Dropout(0.2), \n",
    "                                    tf.keras.layers.Dense(10)])"
   ]
  },
  {
   "cell_type": "code",
   "execution_count": 7,
   "metadata": {},
   "outputs": [
    {
     "name": "stdout",
     "output_type": "stream",
     "text": [
      "Epoch 1/20\n",
      "41/41 [==============================] - 0s 2ms/step - loss: 0.0100 - accuracy: 1.0000\n",
      "Epoch 2/20\n",
      "41/41 [==============================] - 0s 2ms/step - loss: 0.0050 - accuracy: 1.0000\n",
      "Epoch 3/20\n",
      "41/41 [==============================] - 0s 2ms/step - loss: 0.0035 - accuracy: 1.0000\n",
      "Epoch 4/20\n",
      "41/41 [==============================] - 0s 2ms/step - loss: 0.0029 - accuracy: 1.0000\n",
      "Epoch 5/20\n",
      "41/41 [==============================] - 0s 2ms/step - loss: 0.0027 - accuracy: 1.0000\n",
      "Epoch 6/20\n",
      "41/41 [==============================] - 0s 2ms/step - loss: 0.0016 - accuracy: 1.0000\n",
      "Epoch 7/20\n",
      "41/41 [==============================] - 0s 2ms/step - loss: 0.0013 - accuracy: 1.0000\n",
      "Epoch 8/20\n",
      "41/41 [==============================] - 0s 2ms/step - loss: 0.0012 - accuracy: 1.0000\n",
      "Epoch 9/20\n",
      "41/41 [==============================] - 0s 2ms/step - loss: 0.0013 - accuracy: 1.0000\n",
      "Epoch 10/20\n",
      "41/41 [==============================] - 0s 2ms/step - loss: 9.8445e-04 - accuracy: 1.0000\n",
      "Epoch 11/20\n",
      "41/41 [==============================] - 0s 2ms/step - loss: 7.6236e-04 - accuracy: 1.0000\n",
      "Epoch 12/20\n",
      "41/41 [==============================] - 0s 1ms/step - loss: 8.0289e-04 - accuracy: 1.0000\n",
      "Epoch 13/20\n",
      "41/41 [==============================] - 0s 2ms/step - loss: 6.2224e-04 - accuracy: 1.0000\n",
      "Epoch 14/20\n",
      "41/41 [==============================] - 0s 2ms/step - loss: 6.2016e-04 - accuracy: 1.0000\n",
      "Epoch 15/20\n",
      "41/41 [==============================] - 0s 2ms/step - loss: 5.5171e-04 - accuracy: 1.0000\n",
      "Epoch 16/20\n",
      "41/41 [==============================] - 0s 2ms/step - loss: 5.2399e-04 - accuracy: 1.0000\n",
      "Epoch 17/20\n",
      "41/41 [==============================] - 0s 2ms/step - loss: 4.8764e-04 - accuracy: 1.0000\n",
      "Epoch 18/20\n",
      "41/41 [==============================] - 0s 2ms/step - loss: 3.9454e-04 - accuracy: 1.0000\n",
      "Epoch 19/20\n",
      "41/41 [==============================] - 0s 2ms/step - loss: 3.8868e-04 - accuracy: 1.0000\n",
      "Epoch 20/20\n",
      "41/41 [==============================] - 0s 2ms/step - loss: 3.5695e-04 - accuracy: 1.0000\n"
     ]
    },
    {
     "data": {
      "text/plain": [
       "<keras.src.callbacks.History at 0x19bb982c910>"
      ]
     },
     "execution_count": 7,
     "metadata": {},
     "output_type": "execute_result"
    }
   ],
   "source": [
    "loss_fn = tf.keras.losses.SparseCategoricalCrossentropy(from_logits=True)\n",
    "model.compile(optimizer='adam',\n",
    "              loss=loss_fn,\n",
    "              metrics=['accuracy'])\n",
    "model.fit(x_train, y_train, epochs=20)"
   ]
  },
  {
   "cell_type": "code",
   "execution_count": 8,
   "metadata": {},
   "outputs": [
    {
     "name": "stdout",
     "output_type": "stream",
     "text": [
      "2/2 - 0s - loss: 0.0602 - accuracy: 0.9818 - 99ms/epoch - 50ms/step\n"
     ]
    }
   ],
   "source": [
    "model.evaluate(x_test, y_test, verbose=2)\n",
    "probability_model = tf.keras.Sequential([model, tf.keras.layers.Softmax()])\n",
    "# res = probability_model(x_test).numpy()\n",
    "# for i in range(len(res)):\n",
    "#     print(res[i].argmax())"
   ]
  },
  {
   "cell_type": "code",
   "execution_count": 9,
   "metadata": {},
   "outputs": [
    {
     "name": "stdout",
     "output_type": "stream",
     "text": [
      "WARNING:tensorflow:Compiled the loaded model, but the compiled metrics have yet to be built. `model.compile_metrics` will be empty until you train or evaluate the model.\n",
      "INFO:tensorflow:Assets written to: digit_model\\assets\n"
     ]
    },
    {
     "name": "stderr",
     "output_type": "stream",
     "text": [
      "INFO:tensorflow:Assets written to: digit_model\\assets\n"
     ]
    }
   ],
   "source": [
    "probability_model.save('digit_model')"
   ]
  }
 ],
 "metadata": {
  "kernelspec": {
   "display_name": "Python 3",
   "language": "python",
   "name": "python3"
  },
  "language_info": {
   "codemirror_mode": {
    "name": "ipython",
    "version": 3
   },
   "file_extension": ".py",
   "mimetype": "text/x-python",
   "name": "python",
   "nbconvert_exporter": "python",
   "pygments_lexer": "ipython3",
   "version": "3.11.5"
  }
 },
 "nbformat": 4,
 "nbformat_minor": 2
}
