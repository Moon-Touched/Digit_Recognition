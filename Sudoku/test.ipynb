{
 "cells": [
  {
   "cell_type": "code",
   "execution_count": 17,
   "metadata": {},
   "outputs": [],
   "source": [
    "import cv2\n",
    "import os\n",
    "import numpy as np\n",
    "import tensorflow as tf\n",
    "import matplotlib.pyplot as plt"
   ]
  },
  {
   "cell_type": "code",
   "execution_count": 19,
   "metadata": {},
   "outputs": [
    {
     "name": "stdout",
     "output_type": "stream",
     "text": [
      "1\n",
      "[[5.3763820e-11 9.5629561e-01 3.5581294e-07 8.5877234e-09 1.7386070e-02\n",
      "  1.8103006e-03 2.4386302e-02 6.0469974e-05 6.0832233e-05 4.6881404e-10]]\n"
     ]
    },
    {
     "data": {
      "text/plain": [
       "[<matplotlib.lines.Line2D at 0x21858e1fc10>]"
      ]
     },
     "execution_count": 19,
     "metadata": {},
     "output_type": "execute_result"
    },
    {
     "data": {
      "image/png": "[encoded data removed]",
      "text/plain": [
       "<Figure size 640x480 with 1 Axes>"
      ]
     },
     "metadata": {},
     "output_type": "display_data"
    }
   ],
   "source": [
    "W = tf.Variable(np.load(\"../W.npy\"))\n",
    "V = tf.Variable(np.load(\"../V.npy\"))\n",
    "\n",
    "b1 = tf.Variable(np.load(\"../b1.npy\"))\n",
    "b2 = tf.Variable(np.load(\"../b2.npy\"))\n",
    "image = cv2.imread(\"5,6.png\")\n",
    "plt.imshow(image)\n",
    "gray_image = cv2.cvtColor(image, cv2.COLOR_BGR2GRAY)\n",
    "_, binary_image = cv2.threshold(gray_image, 127, 255, cv2.THRESH_BINARY_INV)\n",
    "\n",
    "\n",
    "training_sample = tf.Variable(binary_image.flatten().astype(np.float32))\n",
    "training_sample = tf.reshape(training_sample, [1, -1])\n",
    "h = tf.nn.sigmoid(tf.matmul(training_sample, W) + b1)\n",
    "logits = tf.matmul(h, V) + b2\n",
    "y = tf.nn.softmax(logits)\n",
    "res = y.numpy()[0].argmax()\n",
    "print(res)\n",
    "print(y.numpy())\n",
    "plt.plot(y.numpy()[0])"
   ]
  }
 ],
 "metadata": {
  "kernelspec": {
   "display_name": "Python 3",
   "language": "python",
   "name": "python3"
  },
  "language_info": {
   "codemirror_mode": {
    "name": "ipython",
    "version": 3
   },
   "file_extension": ".py",
   "mimetype": "text/x-python",
   "name": "python",
   "nbconvert_exporter": "python",
   "pygments_lexer": "ipython3",
   "version": "3.11.5"
  }
 },
 "nbformat": 4,
 "nbformat_minor": 2
}
